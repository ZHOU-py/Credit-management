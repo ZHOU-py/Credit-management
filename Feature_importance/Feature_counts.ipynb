{
 "cells": [
  {
   "cell_type": "code",
   "execution_count": 3,
   "metadata": {},
   "outputs": [],
   "source": [
    "import pandas as pd\n",
    "import numpy as np"
   ]
  },
  {
   "cell_type": "code",
   "execution_count": 4,
   "metadata": {},
   "outputs": [],
   "source": [
    "df = pd.read_csv(\"german_credit.csv\")"
   ]
  },
  {
   "cell_type": "code",
   "execution_count": 6,
   "metadata": {},
   "outputs": [
    {
     "data": {
      "text/plain": [
       "Index(['default', 'account_check_status', 'duration_in_month',\n",
       "       'credit_history', 'purpose', 'credit_amount', 'savings',\n",
       "       'present_emp_since', 'installment_as_income_perc',\n",
       "       'personal_status_sex', 'other_debtors', 'present_res_since', 'property',\n",
       "       'age', 'other_installment_plans', 'housing', 'credits_this_bank', 'job',\n",
       "       'people_under_maintenance', 'telephone', 'foreign_worker'],\n",
       "      dtype='object')"
      ]
     },
     "execution_count": 6,
     "metadata": {},
     "output_type": "execute_result"
    }
   ],
   "source": [
    "df.columns"
   ]
  },
  {
   "cell_type": "code",
   "execution_count": 35,
   "metadata": {},
   "outputs": [
    {
     "data": {
      "text/plain": [
       "4"
      ]
     },
     "execution_count": 35,
     "metadata": {},
     "output_type": "execute_result"
    }
   ],
   "source": [
    "X = df.drop(['default'],axis=1)\n",
    "X.shape\n",
    "len(df['account_check_status'].value_counts().index)"
   ]
  },
  {
   "cell_type": "code",
   "execution_count": 36,
   "metadata": {},
   "outputs": [
    {
     "data": {
      "text/plain": [
       "394"
      ]
     },
     "execution_count": 36,
     "metadata": {},
     "output_type": "execute_result"
    }
   ],
   "source": [
    "df['account_check_status'].value_counts()[0]"
   ]
  },
  {
   "cell_type": "code",
   "execution_count": 24,
   "metadata": {},
   "outputs": [
    {
     "data": {
      "text/plain": [
       "700"
      ]
     },
     "execution_count": 24,
     "metadata": {},
     "output_type": "execute_result"
    }
   ],
   "source": [
    "sum(df['default']==0)"
   ]
  },
  {
   "cell_type": "code",
   "execution_count": 38,
   "metadata": {},
   "outputs": [
    {
     "data": {
      "text/plain": [
       "348"
      ]
     },
     "execution_count": 38,
     "metadata": {},
     "output_type": "execute_result"
    }
   ],
   "source": [
    "sum((df['account_check_status']=='no checking account')&(df['default']==0))"
   ]
  },
  {
   "cell_type": "code",
   "execution_count": 41,
   "metadata": {},
   "outputs": [
    {
     "data": {
      "text/plain": [
       "274"
      ]
     },
     "execution_count": 41,
     "metadata": {},
     "output_type": "execute_result"
    }
   ],
   "source": [
    "df['account_check_status'].value_counts()[1]"
   ]
  },
  {
   "cell_type": "code",
   "execution_count": 49,
   "metadata": {},
   "outputs": [
    {
     "name": "stdout",
     "output_type": "stream",
     "text": [
      "range(0, 1000)\n",
      "348\n",
      "394\n",
      "0.883248730964467\n",
      "139\n",
      "274\n",
      "0.5072992700729927\n",
      "164\n",
      "269\n",
      "0.6096654275092936\n",
      "49\n",
      "63\n",
      "0.7777777777777778\n"
     ]
    }
   ],
   "source": [
    "col = 'account_check_status'\n",
    "print(range(len(df[col].index)))\n",
    "for k in range(len(df[col].value_counts().index)):\n",
    "    print(sum((df[col]==df[col].value_counts().index[k])&(df['default']==0)))\n",
    "    print(df[col].value_counts()[k])\n",
    "    print(sum((df[col]==df[col].value_counts().index[k])&(df['default']==0))/df[col].value_counts()[k])"
   ]
  },
  {
   "cell_type": "code",
   "execution_count": 50,
   "metadata": {},
   "outputs": [
    {
     "name": "stdout",
     "output_type": "stream",
     "text": [
      "account_check_status\n",
      "no checking account                                   394\n",
      "< 0 DM                                                274\n",
      "0 <= ... < 200 DM                                     269\n",
      ">= 200 DM / salary assignments for at least 1 year     63\n",
      "Name: account_check_status, dtype: int64\n",
      "no checking account                                   0.394\n",
      "< 0 DM                                                0.274\n",
      "0 <= ... < 200 DM                                     0.269\n",
      ">= 200 DM / salary assignments for at least 1 year    0.063\n",
      "Name: account_check_status, dtype: float64\n",
      "0.883248730964467\n",
      "0.5072992700729927\n",
      "0.6096654275092936\n",
      "0.7777777777777778\n",
      "credit_history\n",
      "existing credits paid back duly till now                       530\n",
      "critical account/ other credits existing (not at this bank)    293\n",
      "delay in paying off in the past                                 88\n",
      "all credits at this bank paid back duly                         49\n",
      "no credits taken/ all credits paid back duly                    40\n",
      "Name: credit_history, dtype: int64\n",
      "existing credits paid back duly till now                       0.530\n",
      "critical account/ other credits existing (not at this bank)    0.293\n",
      "delay in paying off in the past                                0.088\n",
      "all credits at this bank paid back duly                        0.049\n",
      "no credits taken/ all credits paid back duly                   0.040\n",
      "Name: credit_history, dtype: float64\n",
      "0.6811320754716981\n",
      "0.8293515358361775\n",
      "0.6818181818181818\n",
      "0.42857142857142855\n",
      "0.375\n",
      "purpose\n",
      "domestic appliances             280\n",
      "car (new)                       234\n",
      "radio/television                181\n",
      "car (used)                      103\n",
      "business                         97\n",
      "(vacation - does not exist?)     50\n",
      "education                        22\n",
      "furniture/equipment              12\n",
      "repairs                          12\n",
      "retraining                        9\n",
      "Name: purpose, dtype: int64\n",
      "domestic appliances             0.280\n",
      "car (new)                       0.234\n",
      "radio/television                0.181\n",
      "car (used)                      0.103\n",
      "business                        0.097\n",
      "(vacation - does not exist?)    0.050\n",
      "education                       0.022\n",
      "furniture/equipment             0.012\n",
      "repairs                         0.012\n",
      "retraining                      0.009\n",
      "Name: purpose, dtype: float64\n",
      "0.7785714285714286\n",
      "0.6196581196581197\n",
      "0.6795580110497238\n",
      "0.8349514563106796\n",
      "0.6494845360824743\n",
      "0.56\n",
      "0.6363636363636364\n",
      "0.5833333333333334\n",
      "0.6666666666666666\n",
      "0.8888888888888888\n",
      "savings\n",
      "... < 100 DM                   603\n",
      "unknown/ no savings account    183\n",
      "100 <= ... < 500 DM            103\n",
      "500 <= ... < 1000 DM            63\n",
      ".. >= 1000 DM                   48\n",
      "Name: savings, dtype: int64\n",
      "... < 100 DM                   0.603\n",
      "unknown/ no savings account    0.183\n",
      "100 <= ... < 500 DM            0.103\n",
      "500 <= ... < 1000 DM           0.063\n",
      ".. >= 1000 DM                  0.048\n",
      "Name: savings, dtype: float64\n",
      "0.6401326699834162\n",
      "0.825136612021858\n",
      "0.6699029126213593\n",
      "0.8253968253968254\n",
      "0.875\n",
      "present_emp_since\n",
      "1 <= ... < 4 years    339\n",
      ".. >= 7 years         253\n",
      "4 <= ... < 7 years    174\n",
      "... < 1 year          172\n",
      "unemployed             62\n",
      "Name: present_emp_since, dtype: int64\n",
      "1 <= ... < 4 years    0.339\n",
      ".. >= 7 years         0.253\n",
      "4 <= ... < 7 years    0.174\n",
      "... < 1 year          0.172\n",
      "unemployed            0.062\n",
      "Name: present_emp_since, dtype: float64\n",
      "0.6932153392330384\n",
      "0.7470355731225297\n",
      "0.7758620689655172\n",
      "0.5930232558139535\n",
      "0.6290322580645161\n",
      "personal_status_sex\n",
      "male : single                          548\n",
      "female : divorced/separated/married    310\n",
      "male : married/widowed                  92\n",
      "male : divorced/separated               50\n",
      "Name: personal_status_sex, dtype: int64\n",
      "male : single                          0.548\n",
      "female : divorced/separated/married    0.310\n",
      "male : married/widowed                 0.092\n",
      "male : divorced/separated              0.050\n",
      "Name: personal_status_sex, dtype: float64\n",
      "0.7335766423357665\n",
      "0.6483870967741936\n",
      "0.7282608695652174\n",
      "0.6\n",
      "other_debtors\n",
      "none            907\n",
      "guarantor        52\n",
      "co-applicant     41\n",
      "Name: other_debtors, dtype: int64\n",
      "none            0.907\n",
      "guarantor       0.052\n",
      "co-applicant    0.041\n",
      "Name: other_debtors, dtype: float64\n",
      "0.7001102535832414\n",
      "0.8076923076923077\n",
      "0.5609756097560976\n",
      "property\n",
      "if not A121/A122 : car or other, not in attribute 6                 332\n",
      "real estate                                                         282\n",
      "if not A121 : building society savings agreement/ life insurance    232\n",
      "unknown / no property                                               154\n",
      "Name: property, dtype: int64\n",
      "if not A121/A122 : car or other, not in attribute 6                 0.332\n",
      "real estate                                                         0.282\n",
      "if not A121 : building society savings agreement/ life insurance    0.232\n",
      "unknown / no property                                               0.154\n",
      "Name: property, dtype: float64\n",
      "0.6927710843373494\n",
      "0.7872340425531915\n",
      "0.6939655172413793\n",
      "0.564935064935065\n",
      "other_installment_plans\n",
      "none      814\n",
      "bank      139\n",
      "stores     47\n",
      "Name: other_installment_plans, dtype: int64\n",
      "none      0.814\n",
      "bank      0.139\n",
      "stores    0.047\n",
      "Name: other_installment_plans, dtype: float64\n",
      "0.7248157248157249\n",
      "0.5899280575539568\n",
      "0.5957446808510638\n",
      "housing\n",
      "own         713\n",
      "rent        179\n",
      "for free    108\n",
      "Name: housing, dtype: int64\n",
      "own         0.713\n",
      "rent        0.179\n",
      "for free    0.108\n",
      "Name: housing, dtype: float64\n",
      "0.7391304347826086\n",
      "0.6089385474860335\n",
      "0.5925925925925926\n",
      "job\n",
      "skilled employee / official                                      630\n",
      "unskilled - resident                                             200\n",
      "management/ self-employed/ highly qualified employee/ officer    148\n",
      "unemployed/ unskilled - non-resident                              22\n",
      "Name: job, dtype: int64\n",
      "skilled employee / official                                      0.630\n",
      "unskilled - resident                                             0.200\n",
      "management/ self-employed/ highly qualified employee/ officer    0.148\n",
      "unemployed/ unskilled - non-resident                             0.022\n",
      "Name: job, dtype: float64\n",
      "0.7047619047619048\n",
      "0.72\n",
      "0.6554054054054054\n",
      "0.6818181818181818\n",
      "telephone\n",
      "none                                         596\n",
      "yes, registered under the customers name     404\n",
      "Name: telephone, dtype: int64\n",
      "none                                         0.596\n",
      "yes, registered under the customers name     0.404\n",
      "Name: telephone, dtype: float64\n",
      "0.6862416107382551\n",
      "0.7202970297029703\n",
      "foreign_worker\n",
      "yes    963\n",
      "no      37\n",
      "Name: foreign_worker, dtype: int64\n",
      "yes    0.963\n",
      "no     0.037\n",
      "Name: foreign_worker, dtype: float64\n",
      "0.6926272066458983\n",
      "0.8918918918918919\n"
     ]
    }
   ],
   "source": [
    "for col in X.columns:\n",
    "    if df[col].dtype == object:\n",
    "        print(col)\n",
    "        print(df[col].value_counts())\n",
    "        print(df[col].value_counts()/1000)\n",
    "        for k in range(len(df[col].value_counts().index)):\n",
    "            print(sum((df[col]==df[col].value_counts().index[k])&(df['default']==0))/df[col].value_counts()[k])"
   ]
  },
  {
   "cell_type": "code",
   "execution_count": null,
   "metadata": {},
   "outputs": [],
   "source": []
  },
  {
   "cell_type": "code",
   "execution_count": null,
   "metadata": {},
   "outputs": [],
   "source": []
  }
 ],
 "metadata": {
  "kernelspec": {
   "display_name": "Python 3",
   "language": "python",
   "name": "python3"
  },
  "language_info": {
   "codemirror_mode": {
    "name": "ipython",
    "version": 3
   },
   "file_extension": ".py",
   "mimetype": "text/x-python",
   "name": "python",
   "nbconvert_exporter": "python",
   "pygments_lexer": "ipython3",
   "version": "3.7.3"
  }
 },
 "nbformat": 4,
 "nbformat_minor": 2
}
